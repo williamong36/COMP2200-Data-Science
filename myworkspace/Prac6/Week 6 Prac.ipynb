{
 "cells": [
  {
   "cell_type": "markdown",
   "id": "f1bb248f-79a9-4448-a3ee-e626982ffa58",
   "metadata": {},
   "source": [
    "# COMP2200/6200 Week 6 Prac"
   ]
  },
  {
   "cell_type": "markdown",
   "id": "3fc03066-aee9-42f5-a1d6-23a2d0757662",
   "metadata": {},
   "source": [
    "## Part 1 -- Interactive Immersive Experience\n",
    "\n",
    "Interactive k-means and DBSCAN to help understand these algorithms.\n",
    "\n",
    "There is no code to submit for this prac activity, but your participation will help! Take a seat.\n",
    "\n",
    "### K-means instructions\n",
    "\n",
    "To start: your SGTA leader will place a few random objects around the room. Depending on what is at hand, this might be a pen, whiteboard eraser, ball or piece of paper. These are the *centroids* for the algorithm.\n",
    "\n",
    "Cycle through the following:\n",
    "\n",
    "- The SGTA leader asks \"what object (the pen, the eraser, ...) are you closest to?\" If everybody is closest to the same object as they were in the last round, then the algorithm has completed\n",
    " \n",
    "- The SGTA leader then moves the first object. They ask \"who was closest to (the first object)?\" and then place it in the \"average\" of the position in the room of those people.\n",
    "\n",
    "- Then the second object, the third and so on.\n",
    "\n",
    "- Repeat the cycle\n",
    "\n",
    "Observe what happened. Where are the centroids now? How many distinct groups are there? \n",
    "\n",
    "#### Variations\n",
    "\n",
    "Try some variations:\n",
    "\n",
    "- Different starting points -- what if all the centroids are in one corner of the room, or in the centre?\n",
    "\n",
    "- Different numbers of centroids -- if there is an obvious number of clusters in the room, what happens if you start with a different number of centroids?\n",
    "\n",
    "### DBSCAN instructions\n",
    "\n",
    "We'll set \"epsilon\" (the radius for the algorithm) to be \"one arm's length\". Initially we'll set \"number of points\" to 2. So if anyone is in arm's length range of you, you will form a cluster with them.\n",
    "\n",
    "- To start: you are a cluster of one. Your cluster has no name.\n",
    "- \n",
    "- If you can reach someone else, you need to merge clusters with them. You will need to negotiate a name for your cluster. Make sure everyone in the cluster agrees on your cluster name.\n",
    "\n",
    "- Repeat the process with each other person you can reach. Keep going until you everyone within reach of anyone else agrees on the name of their cluster.\n",
    "\n",
    "How many clusters did you form? Were there any outliers? (Clusters with 1 person in them.)\n",
    "\n",
    "#### Variations\n",
    "\n",
    "- What happens if you set \"number of points\" to 3? Only negotiate to merge clusters if there are two people in arm's length of you. That means that if only one person is within reach of you, you won't initiate cluster forming with them -- but they might initiate cluster formation with you. How many clusters did you form? Were there any outliers? (Which could even be two people standing next to each other).\n",
    "\n",
    "- What happens if you set epsilon to be \"within hearing range\"?\n"
   ]
  },
  {
   "cell_type": "markdown",
   "id": "cc5c2eed-b590-4388-976d-84cd8d61225b",
   "metadata": {},
   "source": [
    "## Part 2 -- Can we determine how many different countries or cities your prac group is from?\n",
    "\n",
    "We will use DBSCAN on some geographic data"
   ]
  },
  {
   "cell_type": "markdown",
   "id": "87d63efc-708d-465c-bf6b-ee09516ba849",
   "metadata": {},
   "source": [
    "We will need to import the part of the scikit-learn library that deals with clustering."
   ]
  },
  {
   "cell_type": "code",
   "execution_count": 1,
   "id": "18313271-9264-4e9c-8975-6858835bb4ff",
   "metadata": {},
   "outputs": [],
   "source": [
    "import sklearn.cluster\n",
    "import sklearn.metrics"
   ]
  },
  {
   "cell_type": "markdown",
   "id": "fabd6b29-2588-4207-a64f-afdce79fa1c3",
   "metadata": {},
   "source": [
    "We will also need to import the pandas (PAnels, DAtaframes and Series) library"
   ]
  },
  {
   "cell_type": "code",
   "execution_count": 2,
   "id": "5c163bb2-1dc5-41b0-a112-1b81d67edb86",
   "metadata": {},
   "outputs": [],
   "source": [
    "import pandas as pd"
   ]
  },
  {
   "cell_type": "markdown",
   "id": "7f50ec0a-9e4a-4686-a977-7a83dddbead9",
   "metadata": {},
   "source": [
    "Unless your SGTA leader has created another spreadsheet for you, use the following spreadsheet.\n",
    "\n",
    "https://mqoutlook-my.sharepoint.com/:x:/g/personal/greg_baker_mq_edu_au/EcBcNwpXINhNgJ1r56CjI3YBJ-QmjoGs-Rf3hcbsea-n3w?e=oCfJ2b\n",
    "\n",
    "Look for the spreadsheet tab with your prac group in it. \n",
    "\n",
    "Add a row for some place in your home town -- it could be a famous landmark, a place you liked to visit or you could\n",
    "just make something up and pretend you are from somewhere else.\n",
    "\n",
    "----\n",
    "\n",
    "When everyone has finished entering data, download the spreadsheet. (File -> Create a copy -> Download). \n",
    "\n",
    "Create a dataframe from it using `pd.read_excel`. You will need to supply the filename you saved it as. You will also need to supply the sheetname.\n",
    "\n",
    "----\n",
    "\n",
    "If you get this error: `ModuleNotFoundError: No module named 'openpyxl'` then you need to install the openpyxl library for manipulating\n",
    "Excel spreadsheets.\n",
    "\n",
    "- If you use anaconda: `!conda install openpyxl`\n",
    "\n",
    "- If you use uv, `!uv add openpyxl`\n",
    "\n",
    "- If you use pip to install things, `!pip install openpyxl`"
   ]
  },
  {
   "cell_type": "code",
   "execution_count": 7,
   "id": "58aa1ba7-cf33-402d-9657-bbdc870c388b",
   "metadata": {},
   "outputs": [
    {
     "data": {
      "text/html": [
       "<div>\n",
       "<style scoped>\n",
       "    .dataframe tbody tr th:only-of-type {\n",
       "        vertical-align: middle;\n",
       "    }\n",
       "\n",
       "    .dataframe tbody tr th {\n",
       "        vertical-align: top;\n",
       "    }\n",
       "\n",
       "    .dataframe thead th {\n",
       "        text-align: right;\n",
       "    }\n",
       "</style>\n",
       "<table border=\"1\" class=\"dataframe\">\n",
       "  <thead>\n",
       "    <tr style=\"text-align: right;\">\n",
       "      <th></th>\n",
       "      <th>Latitude</th>\n",
       "      <th>Longitude</th>\n",
       "    </tr>\n",
       "  </thead>\n",
       "  <tbody>\n",
       "    <tr>\n",
       "      <th>0</th>\n",
       "      <td>37.813600</td>\n",
       "      <td>144.963100</td>\n",
       "    </tr>\n",
       "    <tr>\n",
       "      <th>1</th>\n",
       "      <td>23.103175</td>\n",
       "      <td>113.300112</td>\n",
       "    </tr>\n",
       "    <tr>\n",
       "      <th>2</th>\n",
       "      <td>-34.068779</td>\n",
       "      <td>151.152740</td>\n",
       "    </tr>\n",
       "    <tr>\n",
       "      <th>3</th>\n",
       "      <td>-33.863927</td>\n",
       "      <td>151.069158</td>\n",
       "    </tr>\n",
       "    <tr>\n",
       "      <th>4</th>\n",
       "      <td>24.582198</td>\n",
       "      <td>-77.990436</td>\n",
       "    </tr>\n",
       "    <tr>\n",
       "      <th>5</th>\n",
       "      <td>3.064226</td>\n",
       "      <td>101.617501</td>\n",
       "    </tr>\n",
       "    <tr>\n",
       "      <th>6</th>\n",
       "      <td>-33.349497</td>\n",
       "      <td>-127.374713</td>\n",
       "    </tr>\n",
       "    <tr>\n",
       "      <th>7</th>\n",
       "      <td>-33.942687</td>\n",
       "      <td>151.149100</td>\n",
       "    </tr>\n",
       "    <tr>\n",
       "      <th>8</th>\n",
       "      <td>40.475926</td>\n",
       "      <td>128.367813</td>\n",
       "    </tr>\n",
       "    <tr>\n",
       "      <th>9</th>\n",
       "      <td>37.871251</td>\n",
       "      <td>41.008269</td>\n",
       "    </tr>\n",
       "    <tr>\n",
       "      <th>10</th>\n",
       "      <td>25.001166</td>\n",
       "      <td>-70.999871</td>\n",
       "    </tr>\n",
       "    <tr>\n",
       "      <th>11</th>\n",
       "      <td>3.064617</td>\n",
       "      <td>101.616404</td>\n",
       "    </tr>\n",
       "    <tr>\n",
       "      <th>12</th>\n",
       "      <td>3.027461</td>\n",
       "      <td>101.434061</td>\n",
       "    </tr>\n",
       "    <tr>\n",
       "      <th>13</th>\n",
       "      <td>23.734022</td>\n",
       "      <td>90.392957</td>\n",
       "    </tr>\n",
       "    <tr>\n",
       "      <th>14</th>\n",
       "      <td>37.186517</td>\n",
       "      <td>-115.857004</td>\n",
       "    </tr>\n",
       "    <tr>\n",
       "      <th>15</th>\n",
       "      <td>80.888816</td>\n",
       "      <td>79.622214</td>\n",
       "    </tr>\n",
       "    <tr>\n",
       "      <th>16</th>\n",
       "      <td>-33.861359</td>\n",
       "      <td>151.210793</td>\n",
       "    </tr>\n",
       "    <tr>\n",
       "      <th>17</th>\n",
       "      <td>-84.700297</td>\n",
       "      <td>177.272498</td>\n",
       "    </tr>\n",
       "    <tr>\n",
       "      <th>18</th>\n",
       "      <td>2.326427</td>\n",
       "      <td>101.613826</td>\n",
       "    </tr>\n",
       "    <tr>\n",
       "      <th>19</th>\n",
       "      <td>-33.749183</td>\n",
       "      <td>151.064551</td>\n",
       "    </tr>\n",
       "  </tbody>\n",
       "</table>\n",
       "</div>"
      ],
      "text/plain": [
       "     Latitude   Longitude\n",
       "0   37.813600  144.963100\n",
       "1   23.103175  113.300112\n",
       "2  -34.068779  151.152740\n",
       "3  -33.863927  151.069158\n",
       "4   24.582198  -77.990436\n",
       "5    3.064226  101.617501\n",
       "6  -33.349497 -127.374713\n",
       "7  -33.942687  151.149100\n",
       "8   40.475926  128.367813\n",
       "9   37.871251   41.008269\n",
       "10  25.001166  -70.999871\n",
       "11   3.064617  101.616404\n",
       "12   3.027461  101.434061\n",
       "13  23.734022   90.392957\n",
       "14  37.186517 -115.857004\n",
       "15  80.888816   79.622214\n",
       "16 -33.861359  151.210793\n",
       "17 -84.700297  177.272498\n",
       "18   2.326427  101.613826\n",
       "19 -33.749183  151.064551"
      ]
     },
     "execution_count": 7,
     "metadata": {},
     "output_type": "execute_result"
    }
   ],
   "source": [
    "locations = pd.read_excel('COMP2200-6200 Week 6 Prac - Interesting locations.xlsx', sheet_name='FRI-5PM-C02')\n",
    "locations"
   ]
  },
  {
   "cell_type": "markdown",
   "id": "3f7d8fa3-7ec8-4f91-afd1-ef5ac4e3b7cb",
   "metadata": {},
   "source": [
    "What sort of epsilon (`eps`) should we use? If two students have chosen sites within one longitude or one latitude (about 111km at the equator) should that be close enough to put them in the same cluster?\n",
    "\n",
    "What should we use for `min_samples`?\n",
    "\n",
    "Create a DBScan object (`sklearn.cluster.DBSCAN`) and use `fit_predict` on the location data."
   ]
  },
  {
   "cell_type": "code",
   "execution_count": 11,
   "id": "7bef1b90-b357-47aa-9c61-1b16daed1419",
   "metadata": {},
   "outputs": [
    {
     "data": {
      "text/html": [
       "<div>\n",
       "<style scoped>\n",
       "    .dataframe tbody tr th:only-of-type {\n",
       "        vertical-align: middle;\n",
       "    }\n",
       "\n",
       "    .dataframe tbody tr th {\n",
       "        vertical-align: top;\n",
       "    }\n",
       "\n",
       "    .dataframe thead th {\n",
       "        text-align: right;\n",
       "    }\n",
       "</style>\n",
       "<table border=\"1\" class=\"dataframe\">\n",
       "  <thead>\n",
       "    <tr style=\"text-align: right;\">\n",
       "      <th></th>\n",
       "      <th>Latitude</th>\n",
       "      <th>Longitude</th>\n",
       "      <th>dbscan_results</th>\n",
       "    </tr>\n",
       "  </thead>\n",
       "  <tbody>\n",
       "    <tr>\n",
       "      <th>0</th>\n",
       "      <td>37.813600</td>\n",
       "      <td>144.963100</td>\n",
       "      <td>-1</td>\n",
       "    </tr>\n",
       "    <tr>\n",
       "      <th>1</th>\n",
       "      <td>23.103175</td>\n",
       "      <td>113.300112</td>\n",
       "      <td>-1</td>\n",
       "    </tr>\n",
       "    <tr>\n",
       "      <th>2</th>\n",
       "      <td>-34.068779</td>\n",
       "      <td>151.152740</td>\n",
       "      <td>0</td>\n",
       "    </tr>\n",
       "    <tr>\n",
       "      <th>3</th>\n",
       "      <td>-33.863927</td>\n",
       "      <td>151.069158</td>\n",
       "      <td>0</td>\n",
       "    </tr>\n",
       "    <tr>\n",
       "      <th>4</th>\n",
       "      <td>24.582198</td>\n",
       "      <td>-77.990436</td>\n",
       "      <td>-1</td>\n",
       "    </tr>\n",
       "    <tr>\n",
       "      <th>5</th>\n",
       "      <td>3.064226</td>\n",
       "      <td>101.617501</td>\n",
       "      <td>1</td>\n",
       "    </tr>\n",
       "    <tr>\n",
       "      <th>6</th>\n",
       "      <td>-33.349497</td>\n",
       "      <td>-127.374713</td>\n",
       "      <td>-1</td>\n",
       "    </tr>\n",
       "    <tr>\n",
       "      <th>7</th>\n",
       "      <td>-33.942687</td>\n",
       "      <td>151.149100</td>\n",
       "      <td>0</td>\n",
       "    </tr>\n",
       "    <tr>\n",
       "      <th>8</th>\n",
       "      <td>40.475926</td>\n",
       "      <td>128.367813</td>\n",
       "      <td>-1</td>\n",
       "    </tr>\n",
       "    <tr>\n",
       "      <th>9</th>\n",
       "      <td>37.871251</td>\n",
       "      <td>41.008269</td>\n",
       "      <td>-1</td>\n",
       "    </tr>\n",
       "    <tr>\n",
       "      <th>10</th>\n",
       "      <td>25.001166</td>\n",
       "      <td>-70.999871</td>\n",
       "      <td>-1</td>\n",
       "    </tr>\n",
       "    <tr>\n",
       "      <th>11</th>\n",
       "      <td>3.064617</td>\n",
       "      <td>101.616404</td>\n",
       "      <td>1</td>\n",
       "    </tr>\n",
       "    <tr>\n",
       "      <th>12</th>\n",
       "      <td>3.027461</td>\n",
       "      <td>101.434061</td>\n",
       "      <td>1</td>\n",
       "    </tr>\n",
       "    <tr>\n",
       "      <th>13</th>\n",
       "      <td>23.734022</td>\n",
       "      <td>90.392957</td>\n",
       "      <td>-1</td>\n",
       "    </tr>\n",
       "    <tr>\n",
       "      <th>14</th>\n",
       "      <td>37.186517</td>\n",
       "      <td>-115.857004</td>\n",
       "      <td>-1</td>\n",
       "    </tr>\n",
       "    <tr>\n",
       "      <th>15</th>\n",
       "      <td>80.888816</td>\n",
       "      <td>79.622214</td>\n",
       "      <td>-1</td>\n",
       "    </tr>\n",
       "    <tr>\n",
       "      <th>16</th>\n",
       "      <td>-33.861359</td>\n",
       "      <td>151.210793</td>\n",
       "      <td>0</td>\n",
       "    </tr>\n",
       "    <tr>\n",
       "      <th>17</th>\n",
       "      <td>-84.700297</td>\n",
       "      <td>177.272498</td>\n",
       "      <td>-1</td>\n",
       "    </tr>\n",
       "    <tr>\n",
       "      <th>18</th>\n",
       "      <td>2.326427</td>\n",
       "      <td>101.613826</td>\n",
       "      <td>-1</td>\n",
       "    </tr>\n",
       "    <tr>\n",
       "      <th>19</th>\n",
       "      <td>-33.749183</td>\n",
       "      <td>151.064551</td>\n",
       "      <td>0</td>\n",
       "    </tr>\n",
       "  </tbody>\n",
       "</table>\n",
       "</div>"
      ],
      "text/plain": [
       "     Latitude   Longitude  dbscan_results\n",
       "0   37.813600  144.963100              -1\n",
       "1   23.103175  113.300112              -1\n",
       "2  -34.068779  151.152740               0\n",
       "3  -33.863927  151.069158               0\n",
       "4   24.582198  -77.990436              -1\n",
       "5    3.064226  101.617501               1\n",
       "6  -33.349497 -127.374713              -1\n",
       "7  -33.942687  151.149100               0\n",
       "8   40.475926  128.367813              -1\n",
       "9   37.871251   41.008269              -1\n",
       "10  25.001166  -70.999871              -1\n",
       "11   3.064617  101.616404               1\n",
       "12   3.027461  101.434061               1\n",
       "13  23.734022   90.392957              -1\n",
       "14  37.186517 -115.857004              -1\n",
       "15  80.888816   79.622214              -1\n",
       "16 -33.861359  151.210793               0\n",
       "17 -84.700297  177.272498              -1\n",
       "18   2.326427  101.613826              -1\n",
       "19 -33.749183  151.064551               0"
      ]
     },
     "execution_count": 11,
     "metadata": {},
     "output_type": "execute_result"
    }
   ],
   "source": [
    "from sklearn.cluster import DBSCAN\n",
    "\n",
    "X = locations[['Latitude', 'Longitude']].values\n",
    "\n",
    "dbscan_results = DBSCAN(eps=0.5, min_samples=2).fit_predict(X)\n",
    "locations['dbscan_results'] = dbscan_results\n",
    "locations"
   ]
  },
  {
   "cell_type": "markdown",
   "id": "c9ea13e0-1384-41c0-82b3-792944f6d28b",
   "metadata": {},
   "source": [
    "If you aren't confident with programming, export this updated dataframe to Excel and have a look at it there."
   ]
  },
  {
   "cell_type": "code",
   "execution_count": 12,
   "id": "41aa4e7f-c3c1-449e-baea-0f73930a656c",
   "metadata": {},
   "outputs": [],
   "source": [
    "locations.to_excel('locations-with-cluster.xlsx')"
   ]
  },
  {
   "cell_type": "markdown",
   "id": "94ec535a-5cb5-447e-95a3-3560493d5b9a",
   "metadata": {},
   "source": [
    "How many different clusters did it find? Which points were in the cluster?"
   ]
  },
  {
   "cell_type": "code",
   "execution_count": 13,
   "id": "432bd721-f392-409d-8008-2d835f53c1d1",
   "metadata": {},
   "outputs": [
    {
     "data": {
      "text/plain": [
       "dbscan_results\n",
       "-1    12\n",
       " 0     5\n",
       " 1     3\n",
       "Name: count, dtype: int64"
      ]
     },
     "execution_count": 13,
     "metadata": {},
     "output_type": "execute_result"
    }
   ],
   "source": [
    "locations['dbscan_results'].value_counts()"
   ]
  },
  {
   "cell_type": "markdown",
   "id": "65eee7d4-21a1-41f2-8bcb-fa04fde2dd91",
   "metadata": {},
   "source": [
    "If you are comfortable programming, create a scatter plot."
   ]
  },
  {
   "cell_type": "code",
   "execution_count": 15,
   "id": "a8ea6b00-96cd-457f-aeff-7b5987074002",
   "metadata": {},
   "outputs": [
    {
     "data": {
      "text/plain": [
       "<Axes: xlabel='Longitude', ylabel='Latitude'>"
      ]
     },
     "execution_count": 15,
     "metadata": {},
     "output_type": "execute_result"
    },
    {
     "data": {
      "image/png": "[encoded data removed]",
      "text/plain": [
       "<Figure size 640x480 with 2 Axes>"
      ]
     },
     "metadata": {},
     "output_type": "display_data"
    }
   ],
   "source": [
    "locations.plot.scatter(x='Longitude', y='Latitude', c=dbscan_results, cmap='rainbow')"
   ]
  },
  {
   "cell_type": "markdown",
   "id": "29f280aa-9180-4378-8928-9482f1428f45",
   "metadata": {},
   "source": [
    "### Advanced\n",
    "\n",
    "This isn't part of the prac. But if you are a computer science student with a strong mathematical background, you might enjoy this.\n",
    "\n",
    "There's a problem with what we have done. Two people that live 100km apart at the equator could be in one cluster, but two people that live  50km apart very close to the north pole would be several longitudes apart.\n",
    "\n",
    "We should map these locations into 3D space and cluster on the 3D coordinates."
   ]
  },
  {
   "cell_type": "code",
   "execution_count": 44,
   "id": "e38ff9c4-099f-4b18-a668-dac777ca20fd",
   "metadata": {},
   "outputs": [
    {
     "name": "stdout",
     "output_type": "stream",
     "text": [
      "\n",
      "--- eps = 1.0---\n",
      "Cluster labels: [-1 -1  0  0 -1  1 -1  0 -1 -1 -1  1  1 -1 -1 -1  0 -1  1  0]\n",
      "Number of clusters: 2\n",
      "Number of noise points: 11\n",
      "Cluster sizes: {'Noise': 11, 0: 5, 1: 4}\n",
      "Cluster sizes: {'Noise': 11, 'Cluster 0': 5, 1: 4}\n",
      "Cluster sizes: {'Noise': 11, 'Cluster 0': 5, 'Cluster 1': 4}\n",
      "Noise points (label = -1): [0, 1, 4, 6, 8, 9, 10, 13, 14, 15, 17]\n",
      "Cluster 0: [2, 3, 7, 16, 19]\n",
      "Cluster 1: [5, 11, 12, 18]\n",
      "\n",
      "--- eps = 3.0---\n",
      "Cluster labels: [-1 -1  0  0 -1  1 -1  0 -1 -1 -1  1  1 -1 -1 -1  0 -1  1  0]\n",
      "Number of clusters: 2\n",
      "Number of noise points: 11\n",
      "Cluster sizes: {'Noise': 11, 0: 5, 1: 4}\n",
      "Cluster sizes: {'Noise': 11, 'Cluster 0': 5, 1: 4}\n",
      "Cluster sizes: {'Noise': 11, 'Cluster 0': 5, 'Cluster 1': 4}\n",
      "Noise points (label = -1): [0, 1, 4, 6, 8, 9, 10, 13, 14, 15, 17]\n",
      "Cluster 0: [2, 3, 7, 16, 19]\n",
      "Cluster 1: [5, 11, 12, 18]\n",
      "\n",
      "--- eps = 5.0---\n",
      "Cluster labels: [-1 -1  0  0 -1  1 -1  0 -1 -1 -1  1  1 -1 -1 -1  0 -1  1  0]\n",
      "Number of clusters: 2\n",
      "Number of noise points: 11\n",
      "Cluster sizes: {'Noise': 11, 0: 5, 1: 4}\n",
      "Cluster sizes: {'Noise': 11, 'Cluster 0': 5, 1: 4}\n",
      "Cluster sizes: {'Noise': 11, 'Cluster 0': 5, 'Cluster 1': 4}\n",
      "Noise points (label = -1): [0, 1, 4, 6, 8, 9, 10, 13, 14, 15, 17]\n",
      "Cluster 0: [2, 3, 7, 16, 19]\n",
      "Cluster 1: [5, 11, 12, 18]\n",
      "\n",
      "--- eps = 7.0---\n",
      "Cluster labels: [-1 -1  0  0 -1  1 -1  0 -1 -1 -1  1  1 -1 -1 -1  0 -1  1  0]\n",
      "Number of clusters: 2\n",
      "Number of noise points: 11\n",
      "Cluster sizes: {'Noise': 11, 0: 5, 1: 4}\n",
      "Cluster sizes: {'Noise': 11, 'Cluster 0': 5, 1: 4}\n",
      "Cluster sizes: {'Noise': 11, 'Cluster 0': 5, 'Cluster 1': 4}\n",
      "Noise points (label = -1): [0, 1, 4, 6, 8, 9, 10, 13, 14, 15, 17]\n",
      "Cluster 0: [2, 3, 7, 16, 19]\n",
      "Cluster 1: [5, 11, 12, 18]\n",
      "\n",
      "--- eps = 9.0---\n",
      "Cluster labels: [-1 -1  0  0  1  2 -1  0 -1 -1  1  2  2 -1 -1 -1  0 -1  2  0]\n",
      "Number of clusters: 3\n",
      "Number of noise points: 9\n",
      "Cluster sizes: {'Noise': 9, 0: 5, 1: 2, 2: 4}\n",
      "Cluster sizes: {'Noise': 9, 'Cluster 0': 5, 1: 2, 2: 4}\n",
      "Cluster sizes: {'Noise': 9, 'Cluster 0': 5, 'Cluster 1': 2, 2: 4}\n",
      "Cluster sizes: {'Noise': 9, 'Cluster 0': 5, 'Cluster 1': 2, 'Cluster 2': 4}\n",
      "Noise points (label = -1): [0, 1, 6, 8, 9, 13, 14, 15, 17]\n",
      "Cluster 0: [2, 3, 7, 16, 19]\n",
      "Cluster 1: [4, 10]\n",
      "Cluster 2: [5, 11, 12, 18]\n"
     ]
    }
   ],
   "source": [
    "from sklearn.cluster import DBSCAN\n",
    "import numpy as np\n",
    "import pandas as pd\n",
    "\n",
    "eps_values = list(range(1, 10, 2))\n",
    "\n",
    "X = locations[['Latitude', 'Longitude']].values\n",
    "for eps in eps_values:\n",
    "    db = DBSCAN(eps=eps, min_samples=2)\n",
    "    labels = db.fit_predict(X)\n",
    "\n",
    "    n_clusters = len(set(labels)) - (1 if -1 in labels else 0)\n",
    "    n_noise = list(labels).count(-1)\n",
    "\n",
    "    print(f\"\\n--- eps = {eps:.1f}---\")\n",
    "    print(f\"Cluster labels: {labels}\")\n",
    "    print(f\"Number of clusters: {n_clusters}\")\n",
    "    print(f\"Number of noise points: {n_noise}\")\n",
    "\n",
    "    unique_labels, counts = np.unique(labels, return_counts=True)  # Corrected this line\n",
    "    unique_labels = unique_labels.tolist()\n",
    "    counts = counts.tolist()  # Now counts is a list, no error\n",
    "\n",
    "    for i in range(len(unique_labels)):\n",
    "        if unique_labels[i] == -1:\n",
    "            unique_labels[i] = \"Noise\"\n",
    "        else: \n",
    "            unique_labels[i] = f\"Cluster {unique_labels[i]}\"\n",
    "        cluster_stats = dict(zip(unique_labels, counts))\n",
    "        print(\"Cluster sizes:\", cluster_stats)\n",
    "\n",
    "    clusters = {}\n",
    "    for idx, label in enumerate(labels):\n",
    "        if label not in clusters:\n",
    "            clusters[label] = []\n",
    "        clusters[label].append(idx)\n",
    "\n",
    "    for label, indices in clusters.items():  # Fixed to use .items() instead of .item()\n",
    "        if label == -1: \n",
    "            print(f\"Noise points (label = -1): {indices}\")  # Print indices correctly\n",
    "        else: \n",
    "            print(f\"Cluster {label}: {indices}\")\n"
   ]
  },
  {
   "cell_type": "markdown",
   "id": "c921e2e2-fec4-4b7e-8f4e-07f732aee0c1",
   "metadata": {},
   "source": [
    "## Part 3 -- Can you categorise flowers into species?\n",
    "\n",
    "Up until now we've mostly worked with data sets that use place and space. But we can also cluster using any collecting of numbers. The data we are going to work with now comes from these 3 species of iris:\n",
    "\n",
    "- https://en.wikipedia.org/wiki/Iris_setosa\n",
    "  \n",
    "- https://en.wikipedia.org/wiki/Iris_versicolor\n",
    "\n",
    "- https://en.wikipedia.org/wiki/Iris_virginica\n",
    "\n",
    "There are measures of the sepal length and width, and the petal length and width.\n",
    "\n",
    "---\n",
    "\n",
    "### Step 1: Load the Iris dataset\n",
    "\n",
    "This data set is very famous, and it is supplied as part of the scikit-learn library. We need to import the part of the library\n",
    "which deals with datasets, and then call the loader, which will put the data into a variable called \"iris\""
   ]
  },
  {
   "cell_type": "code",
   "execution_count": 16,
   "id": "c96aa2c1-e7d0-4cbc-aaef-0f166ba9439f",
   "metadata": {},
   "outputs": [],
   "source": [
    "import sklearn.datasets\n",
    "iris = sklearn.datasets.load_iris()"
   ]
  },
  {
   "cell_type": "code",
   "execution_count": 18,
   "id": "a62b43a4",
   "metadata": {},
   "outputs": [
    {
     "data": {
      "text/plain": [
       "['sepal length (cm)',\n",
       " 'sepal width (cm)',\n",
       " 'petal length (cm)',\n",
       " 'petal width (cm)']"
      ]
     },
     "execution_count": 18,
     "metadata": {},
     "output_type": "execute_result"
    }
   ],
   "source": [
    "iris.feature_names"
   ]
  },
  {
   "cell_type": "markdown",
   "id": "a813fe6a-df30-4944-a2dd-abb4bcce533f",
   "metadata": {},
   "source": [
    "The next cell might be less familiar to you. We're using the pandas library, and we want to create a dataframe\n",
    "(essentially, a spreadsheet of data) with the column names coming from the iris data's column names we just loaded, and the numbers\n",
    "in the rows coming from the data in that iris variable."
   ]
  },
  {
   "cell_type": "code",
   "execution_count": 17,
   "id": "b49a0e69-836b-4023-907f-f977ace8ff70",
   "metadata": {},
   "outputs": [
    {
     "data": {
      "text/html": [
       "<div>\n",
       "<style scoped>\n",
       "    .dataframe tbody tr th:only-of-type {\n",
       "        vertical-align: middle;\n",
       "    }\n",
       "\n",
       "    .dataframe tbody tr th {\n",
       "        vertical-align: top;\n",
       "    }\n",
       "\n",
       "    .dataframe thead th {\n",
       "        text-align: right;\n",
       "    }\n",
       "</style>\n",
       "<table border=\"1\" class=\"dataframe\">\n",
       "  <thead>\n",
       "    <tr style=\"text-align: right;\">\n",
       "      <th></th>\n",
       "      <th>sepal length (cm)</th>\n",
       "      <th>sepal width (cm)</th>\n",
       "      <th>petal length (cm)</th>\n",
       "      <th>petal width (cm)</th>\n",
       "    </tr>\n",
       "  </thead>\n",
       "  <tbody>\n",
       "    <tr>\n",
       "      <th>0</th>\n",
       "      <td>5.1</td>\n",
       "      <td>3.5</td>\n",
       "      <td>1.4</td>\n",
       "      <td>0.2</td>\n",
       "    </tr>\n",
       "    <tr>\n",
       "      <th>1</th>\n",
       "      <td>4.9</td>\n",
       "      <td>3.0</td>\n",
       "      <td>1.4</td>\n",
       "      <td>0.2</td>\n",
       "    </tr>\n",
       "    <tr>\n",
       "      <th>2</th>\n",
       "      <td>4.7</td>\n",
       "      <td>3.2</td>\n",
       "      <td>1.3</td>\n",
       "      <td>0.2</td>\n",
       "    </tr>\n",
       "    <tr>\n",
       "      <th>3</th>\n",
       "      <td>4.6</td>\n",
       "      <td>3.1</td>\n",
       "      <td>1.5</td>\n",
       "      <td>0.2</td>\n",
       "    </tr>\n",
       "    <tr>\n",
       "      <th>4</th>\n",
       "      <td>5.0</td>\n",
       "      <td>3.6</td>\n",
       "      <td>1.4</td>\n",
       "      <td>0.2</td>\n",
       "    </tr>\n",
       "    <tr>\n",
       "      <th>...</th>\n",
       "      <td>...</td>\n",
       "      <td>...</td>\n",
       "      <td>...</td>\n",
       "      <td>...</td>\n",
       "    </tr>\n",
       "    <tr>\n",
       "      <th>145</th>\n",
       "      <td>6.7</td>\n",
       "      <td>3.0</td>\n",
       "      <td>5.2</td>\n",
       "      <td>2.3</td>\n",
       "    </tr>\n",
       "    <tr>\n",
       "      <th>146</th>\n",
       "      <td>6.3</td>\n",
       "      <td>2.5</td>\n",
       "      <td>5.0</td>\n",
       "      <td>1.9</td>\n",
       "    </tr>\n",
       "    <tr>\n",
       "      <th>147</th>\n",
       "      <td>6.5</td>\n",
       "      <td>3.0</td>\n",
       "      <td>5.2</td>\n",
       "      <td>2.0</td>\n",
       "    </tr>\n",
       "    <tr>\n",
       "      <th>148</th>\n",
       "      <td>6.2</td>\n",
       "      <td>3.4</td>\n",
       "      <td>5.4</td>\n",
       "      <td>2.3</td>\n",
       "    </tr>\n",
       "    <tr>\n",
       "      <th>149</th>\n",
       "      <td>5.9</td>\n",
       "      <td>3.0</td>\n",
       "      <td>5.1</td>\n",
       "      <td>1.8</td>\n",
       "    </tr>\n",
       "  </tbody>\n",
       "</table>\n",
       "<p>150 rows × 4 columns</p>\n",
       "</div>"
      ],
      "text/plain": [
       "     sepal length (cm)  sepal width (cm)  petal length (cm)  petal width (cm)\n",
       "0                  5.1               3.5                1.4               0.2\n",
       "1                  4.9               3.0                1.4               0.2\n",
       "2                  4.7               3.2                1.3               0.2\n",
       "3                  4.6               3.1                1.5               0.2\n",
       "4                  5.0               3.6                1.4               0.2\n",
       "..                 ...               ...                ...               ...\n",
       "145                6.7               3.0                5.2               2.3\n",
       "146                6.3               2.5                5.0               1.9\n",
       "147                6.5               3.0                5.2               2.0\n",
       "148                6.2               3.4                5.4               2.3\n",
       "149                5.9               3.0                5.1               1.8\n",
       "\n",
       "[150 rows x 4 columns]"
      ]
     },
     "execution_count": 17,
     "metadata": {},
     "output_type": "execute_result"
    }
   ],
   "source": [
    "data = pd.DataFrame(iris.data, columns=iris.feature_names)\n",
    "data"
   ]
  },
  {
   "cell_type": "markdown",
   "id": "aa56f087-64d7-40ff-bd5b-e4f426a90f02",
   "metadata": {},
   "source": [
    "Notice that we don't have 2 dimensional data -- it's 4-dimensional: there are 4 features. This makes it much harder to visualise.\n",
    "Here's how you could visualise two of the features."
   ]
  },
  {
   "cell_type": "code",
   "execution_count": 20,
   "id": "a9bfe020-7dad-4938-85e5-6a4c7ab8cb88",
   "metadata": {},
   "outputs": [
    {
     "data": {
      "text/plain": [
       "<Axes: xlabel='sepal length (cm)', ylabel='petal width (cm)'>"
      ]
     },
     "execution_count": 20,
     "metadata": {},
     "output_type": "execute_result"
    },
    {
     "data": {
      "image/png": "[encoded data removed]",
      "text/plain": [
       "<Figure size 640x480 with 1 Axes>"
      ]
     },
     "metadata": {},
     "output_type": "display_data"
    }
   ],
   "source": [
    "data.plot.scatter(x='sepal length (cm)', y= 'petal width (cm)')"
   ]
  },
  {
   "cell_type": "markdown",
   "id": "ff013dfa-faed-4e6a-986c-f3b72447bd3c",
   "metadata": {},
   "source": [
    "Now make a scatter plot of the data using the other features ('petal length (cm)' and 'petal width (cm)')"
   ]
  },
  {
   "cell_type": "code",
   "execution_count": 22,
   "id": "c6578898-4c3f-441c-a30d-5779741021b1",
   "metadata": {},
   "outputs": [
    {
     "data": {
      "text/plain": [
       "<Axes: xlabel='sepal length (cm)', ylabel='petal width (cm)'>"
      ]
     },
     "execution_count": 22,
     "metadata": {},
     "output_type": "execute_result"
    },
    {
     "data": {
      "image/png": "[encoded data removed]",
      "text/plain": [
       "<Figure size 640x480 with 1 Axes>"
      ]
     },
     "metadata": {},
     "output_type": "display_data"
    },
    {
     "data": {
      "image/png": "[encoded data removed]",
      "text/plain": [
       "<Figure size 640x480 with 1 Axes>"
      ]
     },
     "metadata": {},
     "output_type": "display_data"
    }
   ],
   "source": [
    "data.plot.scatter(x='sepal length (cm)', y= 'petal length (cm)')\n",
    "data.plot.scatter(x='sepal length (cm)', y= 'petal width (cm)')"
   ]
  },
  {
   "cell_type": "markdown",
   "id": "942ab5ae-6c6c-486c-8b57-1480b467631b",
   "metadata": {},
   "source": [
    "---"
   ]
  },
  {
   "cell_type": "markdown",
   "id": "a5014707-7330-469b-a527-463b38ad9477",
   "metadata": {},
   "source": [
    "### Step 2: Perform K-Means Clustering"
   ]
  },
  {
   "cell_type": "markdown",
   "id": "385fee85-9430-453e-8110-7c517ffd7f4a",
   "metadata": {},
   "source": [
    "Let's jump to the answer -- we know that there are three species. We would like to get the\n",
    "same answer each time, so we need to set the `random_state` for the algorithm to use. This will make\n",
    "the centroids start in the same place each time."
   ]
  },
  {
   "cell_type": "code",
   "execution_count": 25,
   "id": "ce1ce56f-55a4-4ab9-9b3b-1a9712597a7a",
   "metadata": {},
   "outputs": [
    {
     "name": "stderr",
     "output_type": "stream",
     "text": [
      "c:\\Users\\willi\\anaconda3\\envs\\datascience2200\\Lib\\site-packages\\sklearn\\cluster\\_kmeans.py:1419: UserWarning: KMeans is known to have a memory leak on Windows with MKL, when there are less chunks than available threads. You can avoid it by setting the environment variable OMP_NUM_THREADS=1.\n",
      "  warnings.warn(\n"
     ]
    },
    {
     "data": {
      "text/html": [
       "<div>\n",
       "<style scoped>\n",
       "    .dataframe tbody tr th:only-of-type {\n",
       "        vertical-align: middle;\n",
       "    }\n",
       "\n",
       "    .dataframe tbody tr th {\n",
       "        vertical-align: top;\n",
       "    }\n",
       "\n",
       "    .dataframe thead th {\n",
       "        text-align: right;\n",
       "    }\n",
       "</style>\n",
       "<table border=\"1\" class=\"dataframe\">\n",
       "  <thead>\n",
       "    <tr style=\"text-align: right;\">\n",
       "      <th></th>\n",
       "      <th>sepal length (cm)</th>\n",
       "      <th>sepal width (cm)</th>\n",
       "      <th>petal length (cm)</th>\n",
       "      <th>petal width (cm)</th>\n",
       "      <th>kmeans_cluster_3_species</th>\n",
       "    </tr>\n",
       "  </thead>\n",
       "  <tbody>\n",
       "    <tr>\n",
       "      <th>0</th>\n",
       "      <td>5.1</td>\n",
       "      <td>3.5</td>\n",
       "      <td>1.4</td>\n",
       "      <td>0.2</td>\n",
       "      <td>1</td>\n",
       "    </tr>\n",
       "    <tr>\n",
       "      <th>1</th>\n",
       "      <td>4.9</td>\n",
       "      <td>3.0</td>\n",
       "      <td>1.4</td>\n",
       "      <td>0.2</td>\n",
       "      <td>1</td>\n",
       "    </tr>\n",
       "    <tr>\n",
       "      <th>2</th>\n",
       "      <td>4.7</td>\n",
       "      <td>3.2</td>\n",
       "      <td>1.3</td>\n",
       "      <td>0.2</td>\n",
       "      <td>1</td>\n",
       "    </tr>\n",
       "    <tr>\n",
       "      <th>3</th>\n",
       "      <td>4.6</td>\n",
       "      <td>3.1</td>\n",
       "      <td>1.5</td>\n",
       "      <td>0.2</td>\n",
       "      <td>1</td>\n",
       "    </tr>\n",
       "    <tr>\n",
       "      <th>4</th>\n",
       "      <td>5.0</td>\n",
       "      <td>3.6</td>\n",
       "      <td>1.4</td>\n",
       "      <td>0.2</td>\n",
       "      <td>1</td>\n",
       "    </tr>\n",
       "    <tr>\n",
       "      <th>...</th>\n",
       "      <td>...</td>\n",
       "      <td>...</td>\n",
       "      <td>...</td>\n",
       "      <td>...</td>\n",
       "      <td>...</td>\n",
       "    </tr>\n",
       "    <tr>\n",
       "      <th>145</th>\n",
       "      <td>6.7</td>\n",
       "      <td>3.0</td>\n",
       "      <td>5.2</td>\n",
       "      <td>2.3</td>\n",
       "      <td>0</td>\n",
       "    </tr>\n",
       "    <tr>\n",
       "      <th>146</th>\n",
       "      <td>6.3</td>\n",
       "      <td>2.5</td>\n",
       "      <td>5.0</td>\n",
       "      <td>1.9</td>\n",
       "      <td>2</td>\n",
       "    </tr>\n",
       "    <tr>\n",
       "      <th>147</th>\n",
       "      <td>6.5</td>\n",
       "      <td>3.0</td>\n",
       "      <td>5.2</td>\n",
       "      <td>2.0</td>\n",
       "      <td>0</td>\n",
       "    </tr>\n",
       "    <tr>\n",
       "      <th>148</th>\n",
       "      <td>6.2</td>\n",
       "      <td>3.4</td>\n",
       "      <td>5.4</td>\n",
       "      <td>2.3</td>\n",
       "      <td>0</td>\n",
       "    </tr>\n",
       "    <tr>\n",
       "      <th>149</th>\n",
       "      <td>5.9</td>\n",
       "      <td>3.0</td>\n",
       "      <td>5.1</td>\n",
       "      <td>1.8</td>\n",
       "      <td>2</td>\n",
       "    </tr>\n",
       "  </tbody>\n",
       "</table>\n",
       "<p>150 rows × 5 columns</p>\n",
       "</div>"
      ],
      "text/plain": [
       "     sepal length (cm)  sepal width (cm)  petal length (cm)  petal width (cm)  \\\n",
       "0                  5.1               3.5                1.4               0.2   \n",
       "1                  4.9               3.0                1.4               0.2   \n",
       "2                  4.7               3.2                1.3               0.2   \n",
       "3                  4.6               3.1                1.5               0.2   \n",
       "4                  5.0               3.6                1.4               0.2   \n",
       "..                 ...               ...                ...               ...   \n",
       "145                6.7               3.0                5.2               2.3   \n",
       "146                6.3               2.5                5.0               1.9   \n",
       "147                6.5               3.0                5.2               2.0   \n",
       "148                6.2               3.4                5.4               2.3   \n",
       "149                5.9               3.0                5.1               1.8   \n",
       "\n",
       "     kmeans_cluster_3_species  \n",
       "0                           1  \n",
       "1                           1  \n",
       "2                           1  \n",
       "3                           1  \n",
       "4                           1  \n",
       "..                        ...  \n",
       "145                         0  \n",
       "146                         2  \n",
       "147                         0  \n",
       "148                         0  \n",
       "149                         2  \n",
       "\n",
       "[150 rows x 5 columns]"
      ]
     },
     "execution_count": 25,
     "metadata": {},
     "output_type": "execute_result"
    }
   ],
   "source": [
    "kmeans = sklearn.cluster.KMeans(n_clusters=3, random_state=42)\n",
    "data['kmeans_cluster_3_species'] = kmeans.fit_predict(data)\n",
    "data"
   ]
  },
  {
   "cell_type": "markdown",
   "id": "38953558-ca44-4ddf-9aa1-5695fa591309",
   "metadata": {},
   "source": [
    "We can add that column as the colour to the plot we made earlier. \"c\" is short for \"colour\", and \"cmap\" is short for \"colourmap\"."
   ]
  },
  {
   "cell_type": "code",
   "execution_count": 26,
   "id": "0a1b94d4",
   "metadata": {},
   "outputs": [
    {
     "data": {
      "text/plain": [
       "<Axes: xlabel='sepal length (cm)', ylabel='sepal width (cm)'>"
      ]
     },
     "execution_count": 26,
     "metadata": {},
     "output_type": "execute_result"
    },
    {
     "data": {
      "image/png": "[encoded data removed]",
      "text/plain": [
       "<Figure size 640x480 with 2 Axes>"
      ]
     },
     "metadata": {},
     "output_type": "display_data"
    }
   ],
   "source": [
    "data.plot.scatter(x='sepal length (cm)', y='sepal width (cm)', c='kmeans_cluster_3_species', cmap='rainbow')"
   ]
  },
  {
   "cell_type": "markdown",
   "id": "7a3d80d7-7808-4498-b169-ee959f9f62ab",
   "metadata": {},
   "source": [
    "### Try a few other cluster sizes"
   ]
  },
  {
   "cell_type": "markdown",
   "id": "c390f72d-8346-429b-b768-c6abe77d4cea",
   "metadata": {},
   "source": [
    "But if we didn't know it was three species, could we figure it out?\n",
    "\n",
    "Try a few other options. What happens if you use 2 clusters, or 4 or 5? Copy the code into a new cell\n",
    "and make any necessary changes."
   ]
  },
  {
   "cell_type": "code",
   "execution_count": 27,
   "id": "d95dbd6b-77f0-43fd-9bee-160725ed09a1",
   "metadata": {},
   "outputs": [
    {
     "name": "stderr",
     "output_type": "stream",
     "text": [
      "c:\\Users\\willi\\anaconda3\\envs\\datascience2200\\Lib\\site-packages\\sklearn\\cluster\\_kmeans.py:1419: UserWarning: KMeans is known to have a memory leak on Windows with MKL, when there are less chunks than available threads. You can avoid it by setting the environment variable OMP_NUM_THREADS=1.\n",
      "  warnings.warn(\n"
     ]
    },
    {
     "data": {
      "text/html": [
       "<div>\n",
       "<style scoped>\n",
       "    .dataframe tbody tr th:only-of-type {\n",
       "        vertical-align: middle;\n",
       "    }\n",
       "\n",
       "    .dataframe tbody tr th {\n",
       "        vertical-align: top;\n",
       "    }\n",
       "\n",
       "    .dataframe thead th {\n",
       "        text-align: right;\n",
       "    }\n",
       "</style>\n",
       "<table border=\"1\" class=\"dataframe\">\n",
       "  <thead>\n",
       "    <tr style=\"text-align: right;\">\n",
       "      <th></th>\n",
       "      <th>sepal length (cm)</th>\n",
       "      <th>sepal width (cm)</th>\n",
       "      <th>petal length (cm)</th>\n",
       "      <th>petal width (cm)</th>\n",
       "      <th>kmeans_cluster_3_species</th>\n",
       "      <th>kmeans_cluster_2_species</th>\n",
       "    </tr>\n",
       "  </thead>\n",
       "  <tbody>\n",
       "    <tr>\n",
       "      <th>0</th>\n",
       "      <td>5.1</td>\n",
       "      <td>3.5</td>\n",
       "      <td>1.4</td>\n",
       "      <td>0.2</td>\n",
       "      <td>1</td>\n",
       "      <td>1</td>\n",
       "    </tr>\n",
       "    <tr>\n",
       "      <th>1</th>\n",
       "      <td>4.9</td>\n",
       "      <td>3.0</td>\n",
       "      <td>1.4</td>\n",
       "      <td>0.2</td>\n",
       "      <td>1</td>\n",
       "      <td>1</td>\n",
       "    </tr>\n",
       "    <tr>\n",
       "      <th>2</th>\n",
       "      <td>4.7</td>\n",
       "      <td>3.2</td>\n",
       "      <td>1.3</td>\n",
       "      <td>0.2</td>\n",
       "      <td>1</td>\n",
       "      <td>1</td>\n",
       "    </tr>\n",
       "    <tr>\n",
       "      <th>3</th>\n",
       "      <td>4.6</td>\n",
       "      <td>3.1</td>\n",
       "      <td>1.5</td>\n",
       "      <td>0.2</td>\n",
       "      <td>1</td>\n",
       "      <td>1</td>\n",
       "    </tr>\n",
       "    <tr>\n",
       "      <th>4</th>\n",
       "      <td>5.0</td>\n",
       "      <td>3.6</td>\n",
       "      <td>1.4</td>\n",
       "      <td>0.2</td>\n",
       "      <td>1</td>\n",
       "      <td>1</td>\n",
       "    </tr>\n",
       "    <tr>\n",
       "      <th>...</th>\n",
       "      <td>...</td>\n",
       "      <td>...</td>\n",
       "      <td>...</td>\n",
       "      <td>...</td>\n",
       "      <td>...</td>\n",
       "      <td>...</td>\n",
       "    </tr>\n",
       "    <tr>\n",
       "      <th>145</th>\n",
       "      <td>6.7</td>\n",
       "      <td>3.0</td>\n",
       "      <td>5.2</td>\n",
       "      <td>2.3</td>\n",
       "      <td>0</td>\n",
       "      <td>0</td>\n",
       "    </tr>\n",
       "    <tr>\n",
       "      <th>146</th>\n",
       "      <td>6.3</td>\n",
       "      <td>2.5</td>\n",
       "      <td>5.0</td>\n",
       "      <td>1.9</td>\n",
       "      <td>2</td>\n",
       "      <td>0</td>\n",
       "    </tr>\n",
       "    <tr>\n",
       "      <th>147</th>\n",
       "      <td>6.5</td>\n",
       "      <td>3.0</td>\n",
       "      <td>5.2</td>\n",
       "      <td>2.0</td>\n",
       "      <td>0</td>\n",
       "      <td>0</td>\n",
       "    </tr>\n",
       "    <tr>\n",
       "      <th>148</th>\n",
       "      <td>6.2</td>\n",
       "      <td>3.4</td>\n",
       "      <td>5.4</td>\n",
       "      <td>2.3</td>\n",
       "      <td>0</td>\n",
       "      <td>0</td>\n",
       "    </tr>\n",
       "    <tr>\n",
       "      <th>149</th>\n",
       "      <td>5.9</td>\n",
       "      <td>3.0</td>\n",
       "      <td>5.1</td>\n",
       "      <td>1.8</td>\n",
       "      <td>2</td>\n",
       "      <td>0</td>\n",
       "    </tr>\n",
       "  </tbody>\n",
       "</table>\n",
       "<p>150 rows × 6 columns</p>\n",
       "</div>"
      ],
      "text/plain": [
       "     sepal length (cm)  sepal width (cm)  petal length (cm)  petal width (cm)  \\\n",
       "0                  5.1               3.5                1.4               0.2   \n",
       "1                  4.9               3.0                1.4               0.2   \n",
       "2                  4.7               3.2                1.3               0.2   \n",
       "3                  4.6               3.1                1.5               0.2   \n",
       "4                  5.0               3.6                1.4               0.2   \n",
       "..                 ...               ...                ...               ...   \n",
       "145                6.7               3.0                5.2               2.3   \n",
       "146                6.3               2.5                5.0               1.9   \n",
       "147                6.5               3.0                5.2               2.0   \n",
       "148                6.2               3.4                5.4               2.3   \n",
       "149                5.9               3.0                5.1               1.8   \n",
       "\n",
       "     kmeans_cluster_3_species  kmeans_cluster_2_species  \n",
       "0                           1                         1  \n",
       "1                           1                         1  \n",
       "2                           1                         1  \n",
       "3                           1                         1  \n",
       "4                           1                         1  \n",
       "..                        ...                       ...  \n",
       "145                         0                         0  \n",
       "146                         2                         0  \n",
       "147                         0                         0  \n",
       "148                         0                         0  \n",
       "149                         2                         0  \n",
       "\n",
       "[150 rows x 6 columns]"
      ]
     },
     "execution_count": 27,
     "metadata": {},
     "output_type": "execute_result"
    }
   ],
   "source": [
    "kmeans = sklearn.cluster.KMeans(n_clusters=2, random_state=42)\n",
    "data['kmeans_cluster_2_species'] = kmeans.fit_predict(data)\n",
    "data"
   ]
  },
  {
   "cell_type": "code",
   "execution_count": 28,
   "id": "14e889fb-0623-4112-83ab-eb81f2c68e01",
   "metadata": {},
   "outputs": [
    {
     "name": "stderr",
     "output_type": "stream",
     "text": [
      "c:\\Users\\willi\\anaconda3\\envs\\datascience2200\\Lib\\site-packages\\sklearn\\cluster\\_kmeans.py:1419: UserWarning: KMeans is known to have a memory leak on Windows with MKL, when there are less chunks than available threads. You can avoid it by setting the environment variable OMP_NUM_THREADS=1.\n",
      "  warnings.warn(\n"
     ]
    },
    {
     "data": {
      "text/html": [
       "<div>\n",
       "<style scoped>\n",
       "    .dataframe tbody tr th:only-of-type {\n",
       "        vertical-align: middle;\n",
       "    }\n",
       "\n",
       "    .dataframe tbody tr th {\n",
       "        vertical-align: top;\n",
       "    }\n",
       "\n",
       "    .dataframe thead th {\n",
       "        text-align: right;\n",
       "    }\n",
       "</style>\n",
       "<table border=\"1\" class=\"dataframe\">\n",
       "  <thead>\n",
       "    <tr style=\"text-align: right;\">\n",
       "      <th></th>\n",
       "      <th>sepal length (cm)</th>\n",
       "      <th>sepal width (cm)</th>\n",
       "      <th>petal length (cm)</th>\n",
       "      <th>petal width (cm)</th>\n",
       "      <th>kmeans_cluster_3_species</th>\n",
       "      <th>kmeans_cluster_2_species</th>\n",
       "      <th>kmeans_cluster_4_species</th>\n",
       "    </tr>\n",
       "  </thead>\n",
       "  <tbody>\n",
       "    <tr>\n",
       "      <th>0</th>\n",
       "      <td>5.1</td>\n",
       "      <td>3.5</td>\n",
       "      <td>1.4</td>\n",
       "      <td>0.2</td>\n",
       "      <td>1</td>\n",
       "      <td>1</td>\n",
       "      <td>2</td>\n",
       "    </tr>\n",
       "    <tr>\n",
       "      <th>1</th>\n",
       "      <td>4.9</td>\n",
       "      <td>3.0</td>\n",
       "      <td>1.4</td>\n",
       "      <td>0.2</td>\n",
       "      <td>1</td>\n",
       "      <td>1</td>\n",
       "      <td>1</td>\n",
       "    </tr>\n",
       "    <tr>\n",
       "      <th>2</th>\n",
       "      <td>4.7</td>\n",
       "      <td>3.2</td>\n",
       "      <td>1.3</td>\n",
       "      <td>0.2</td>\n",
       "      <td>1</td>\n",
       "      <td>1</td>\n",
       "      <td>1</td>\n",
       "    </tr>\n",
       "    <tr>\n",
       "      <th>3</th>\n",
       "      <td>4.6</td>\n",
       "      <td>3.1</td>\n",
       "      <td>1.5</td>\n",
       "      <td>0.2</td>\n",
       "      <td>1</td>\n",
       "      <td>1</td>\n",
       "      <td>1</td>\n",
       "    </tr>\n",
       "    <tr>\n",
       "      <th>4</th>\n",
       "      <td>5.0</td>\n",
       "      <td>3.6</td>\n",
       "      <td>1.4</td>\n",
       "      <td>0.2</td>\n",
       "      <td>1</td>\n",
       "      <td>1</td>\n",
       "      <td>2</td>\n",
       "    </tr>\n",
       "    <tr>\n",
       "      <th>...</th>\n",
       "      <td>...</td>\n",
       "      <td>...</td>\n",
       "      <td>...</td>\n",
       "      <td>...</td>\n",
       "      <td>...</td>\n",
       "      <td>...</td>\n",
       "      <td>...</td>\n",
       "    </tr>\n",
       "    <tr>\n",
       "      <th>145</th>\n",
       "      <td>6.7</td>\n",
       "      <td>3.0</td>\n",
       "      <td>5.2</td>\n",
       "      <td>2.3</td>\n",
       "      <td>0</td>\n",
       "      <td>0</td>\n",
       "      <td>3</td>\n",
       "    </tr>\n",
       "    <tr>\n",
       "      <th>146</th>\n",
       "      <td>6.3</td>\n",
       "      <td>2.5</td>\n",
       "      <td>5.0</td>\n",
       "      <td>1.9</td>\n",
       "      <td>2</td>\n",
       "      <td>0</td>\n",
       "      <td>0</td>\n",
       "    </tr>\n",
       "    <tr>\n",
       "      <th>147</th>\n",
       "      <td>6.5</td>\n",
       "      <td>3.0</td>\n",
       "      <td>5.2</td>\n",
       "      <td>2.0</td>\n",
       "      <td>0</td>\n",
       "      <td>0</td>\n",
       "      <td>3</td>\n",
       "    </tr>\n",
       "    <tr>\n",
       "      <th>148</th>\n",
       "      <td>6.2</td>\n",
       "      <td>3.4</td>\n",
       "      <td>5.4</td>\n",
       "      <td>2.3</td>\n",
       "      <td>0</td>\n",
       "      <td>0</td>\n",
       "      <td>3</td>\n",
       "    </tr>\n",
       "    <tr>\n",
       "      <th>149</th>\n",
       "      <td>5.9</td>\n",
       "      <td>3.0</td>\n",
       "      <td>5.1</td>\n",
       "      <td>1.8</td>\n",
       "      <td>2</td>\n",
       "      <td>0</td>\n",
       "      <td>0</td>\n",
       "    </tr>\n",
       "  </tbody>\n",
       "</table>\n",
       "<p>150 rows × 7 columns</p>\n",
       "</div>"
      ],
      "text/plain": [
       "     sepal length (cm)  sepal width (cm)  petal length (cm)  petal width (cm)  \\\n",
       "0                  5.1               3.5                1.4               0.2   \n",
       "1                  4.9               3.0                1.4               0.2   \n",
       "2                  4.7               3.2                1.3               0.2   \n",
       "3                  4.6               3.1                1.5               0.2   \n",
       "4                  5.0               3.6                1.4               0.2   \n",
       "..                 ...               ...                ...               ...   \n",
       "145                6.7               3.0                5.2               2.3   \n",
       "146                6.3               2.5                5.0               1.9   \n",
       "147                6.5               3.0                5.2               2.0   \n",
       "148                6.2               3.4                5.4               2.3   \n",
       "149                5.9               3.0                5.1               1.8   \n",
       "\n",
       "     kmeans_cluster_3_species  kmeans_cluster_2_species  \\\n",
       "0                           1                         1   \n",
       "1                           1                         1   \n",
       "2                           1                         1   \n",
       "3                           1                         1   \n",
       "4                           1                         1   \n",
       "..                        ...                       ...   \n",
       "145                         0                         0   \n",
       "146                         2                         0   \n",
       "147                         0                         0   \n",
       "148                         0                         0   \n",
       "149                         2                         0   \n",
       "\n",
       "     kmeans_cluster_4_species  \n",
       "0                           2  \n",
       "1                           1  \n",
       "2                           1  \n",
       "3                           1  \n",
       "4                           2  \n",
       "..                        ...  \n",
       "145                         3  \n",
       "146                         0  \n",
       "147                         3  \n",
       "148                         3  \n",
       "149                         0  \n",
       "\n",
       "[150 rows x 7 columns]"
      ]
     },
     "execution_count": 28,
     "metadata": {},
     "output_type": "execute_result"
    }
   ],
   "source": [
    "kmeans = sklearn.cluster.KMeans(n_clusters=4, random_state=42)\n",
    "data['kmeans_cluster_4_species'] = kmeans.fit_predict(data)\n",
    "data"
   ]
  },
  {
   "cell_type": "code",
   "execution_count": 29,
   "id": "15ed38f0-c582-4c61-b945-0d9d918c70b1",
   "metadata": {},
   "outputs": [
    {
     "name": "stderr",
     "output_type": "stream",
     "text": [
      "c:\\Users\\willi\\anaconda3\\envs\\datascience2200\\Lib\\site-packages\\sklearn\\cluster\\_kmeans.py:1419: UserWarning: KMeans is known to have a memory leak on Windows with MKL, when there are less chunks than available threads. You can avoid it by setting the environment variable OMP_NUM_THREADS=1.\n",
      "  warnings.warn(\n"
     ]
    },
    {
     "data": {
      "text/html": [
       "<div>\n",
       "<style scoped>\n",
       "    .dataframe tbody tr th:only-of-type {\n",
       "        vertical-align: middle;\n",
       "    }\n",
       "\n",
       "    .dataframe tbody tr th {\n",
       "        vertical-align: top;\n",
       "    }\n",
       "\n",
       "    .dataframe thead th {\n",
       "        text-align: right;\n",
       "    }\n",
       "</style>\n",
       "<table border=\"1\" class=\"dataframe\">\n",
       "  <thead>\n",
       "    <tr style=\"text-align: right;\">\n",
       "      <th></th>\n",
       "      <th>sepal length (cm)</th>\n",
       "      <th>sepal width (cm)</th>\n",
       "      <th>petal length (cm)</th>\n",
       "      <th>petal width (cm)</th>\n",
       "      <th>kmeans_cluster_3_species</th>\n",
       "      <th>kmeans_cluster_2_species</th>\n",
       "      <th>kmeans_cluster_4_species</th>\n",
       "      <th>kmeans_cluster_5_species</th>\n",
       "    </tr>\n",
       "  </thead>\n",
       "  <tbody>\n",
       "    <tr>\n",
       "      <th>0</th>\n",
       "      <td>5.1</td>\n",
       "      <td>3.5</td>\n",
       "      <td>1.4</td>\n",
       "      <td>0.2</td>\n",
       "      <td>1</td>\n",
       "      <td>1</td>\n",
       "      <td>2</td>\n",
       "      <td>4</td>\n",
       "    </tr>\n",
       "    <tr>\n",
       "      <th>1</th>\n",
       "      <td>4.9</td>\n",
       "      <td>3.0</td>\n",
       "      <td>1.4</td>\n",
       "      <td>0.2</td>\n",
       "      <td>1</td>\n",
       "      <td>1</td>\n",
       "      <td>1</td>\n",
       "      <td>2</td>\n",
       "    </tr>\n",
       "    <tr>\n",
       "      <th>2</th>\n",
       "      <td>4.7</td>\n",
       "      <td>3.2</td>\n",
       "      <td>1.3</td>\n",
       "      <td>0.2</td>\n",
       "      <td>1</td>\n",
       "      <td>1</td>\n",
       "      <td>1</td>\n",
       "      <td>2</td>\n",
       "    </tr>\n",
       "    <tr>\n",
       "      <th>3</th>\n",
       "      <td>4.6</td>\n",
       "      <td>3.1</td>\n",
       "      <td>1.5</td>\n",
       "      <td>0.2</td>\n",
       "      <td>1</td>\n",
       "      <td>1</td>\n",
       "      <td>1</td>\n",
       "      <td>2</td>\n",
       "    </tr>\n",
       "    <tr>\n",
       "      <th>4</th>\n",
       "      <td>5.0</td>\n",
       "      <td>3.6</td>\n",
       "      <td>1.4</td>\n",
       "      <td>0.2</td>\n",
       "      <td>1</td>\n",
       "      <td>1</td>\n",
       "      <td>2</td>\n",
       "      <td>4</td>\n",
       "    </tr>\n",
       "    <tr>\n",
       "      <th>...</th>\n",
       "      <td>...</td>\n",
       "      <td>...</td>\n",
       "      <td>...</td>\n",
       "      <td>...</td>\n",
       "      <td>...</td>\n",
       "      <td>...</td>\n",
       "      <td>...</td>\n",
       "      <td>...</td>\n",
       "    </tr>\n",
       "    <tr>\n",
       "      <th>145</th>\n",
       "      <td>6.7</td>\n",
       "      <td>3.0</td>\n",
       "      <td>5.2</td>\n",
       "      <td>2.3</td>\n",
       "      <td>0</td>\n",
       "      <td>0</td>\n",
       "      <td>3</td>\n",
       "      <td>1</td>\n",
       "    </tr>\n",
       "    <tr>\n",
       "      <th>146</th>\n",
       "      <td>6.3</td>\n",
       "      <td>2.5</td>\n",
       "      <td>5.0</td>\n",
       "      <td>1.9</td>\n",
       "      <td>2</td>\n",
       "      <td>0</td>\n",
       "      <td>0</td>\n",
       "      <td>0</td>\n",
       "    </tr>\n",
       "    <tr>\n",
       "      <th>147</th>\n",
       "      <td>6.5</td>\n",
       "      <td>3.0</td>\n",
       "      <td>5.2</td>\n",
       "      <td>2.0</td>\n",
       "      <td>0</td>\n",
       "      <td>0</td>\n",
       "      <td>3</td>\n",
       "      <td>1</td>\n",
       "    </tr>\n",
       "    <tr>\n",
       "      <th>148</th>\n",
       "      <td>6.2</td>\n",
       "      <td>3.4</td>\n",
       "      <td>5.4</td>\n",
       "      <td>2.3</td>\n",
       "      <td>0</td>\n",
       "      <td>0</td>\n",
       "      <td>3</td>\n",
       "      <td>1</td>\n",
       "    </tr>\n",
       "    <tr>\n",
       "      <th>149</th>\n",
       "      <td>5.9</td>\n",
       "      <td>3.0</td>\n",
       "      <td>5.1</td>\n",
       "      <td>1.8</td>\n",
       "      <td>2</td>\n",
       "      <td>0</td>\n",
       "      <td>0</td>\n",
       "      <td>0</td>\n",
       "    </tr>\n",
       "  </tbody>\n",
       "</table>\n",
       "<p>150 rows × 8 columns</p>\n",
       "</div>"
      ],
      "text/plain": [
       "     sepal length (cm)  sepal width (cm)  petal length (cm)  petal width (cm)  \\\n",
       "0                  5.1               3.5                1.4               0.2   \n",
       "1                  4.9               3.0                1.4               0.2   \n",
       "2                  4.7               3.2                1.3               0.2   \n",
       "3                  4.6               3.1                1.5               0.2   \n",
       "4                  5.0               3.6                1.4               0.2   \n",
       "..                 ...               ...                ...               ...   \n",
       "145                6.7               3.0                5.2               2.3   \n",
       "146                6.3               2.5                5.0               1.9   \n",
       "147                6.5               3.0                5.2               2.0   \n",
       "148                6.2               3.4                5.4               2.3   \n",
       "149                5.9               3.0                5.1               1.8   \n",
       "\n",
       "     kmeans_cluster_3_species  kmeans_cluster_2_species  \\\n",
       "0                           1                         1   \n",
       "1                           1                         1   \n",
       "2                           1                         1   \n",
       "3                           1                         1   \n",
       "4                           1                         1   \n",
       "..                        ...                       ...   \n",
       "145                         0                         0   \n",
       "146                         2                         0   \n",
       "147                         0                         0   \n",
       "148                         0                         0   \n",
       "149                         2                         0   \n",
       "\n",
       "     kmeans_cluster_4_species  kmeans_cluster_5_species  \n",
       "0                           2                         4  \n",
       "1                           1                         2  \n",
       "2                           1                         2  \n",
       "3                           1                         2  \n",
       "4                           2                         4  \n",
       "..                        ...                       ...  \n",
       "145                         3                         1  \n",
       "146                         0                         0  \n",
       "147                         3                         1  \n",
       "148                         3                         1  \n",
       "149                         0                         0  \n",
       "\n",
       "[150 rows x 8 columns]"
      ]
     },
     "execution_count": 29,
     "metadata": {},
     "output_type": "execute_result"
    }
   ],
   "source": [
    "kmeans = sklearn.cluster.KMeans(n_clusters=5, random_state=42)\n",
    "data['kmeans_cluster_5_species'] = kmeans.fit_predict(data)\n",
    "data"
   ]
  },
  {
   "cell_type": "markdown",
   "id": "25fb11ba-2731-4ca0-80a6-b82e332dc625",
   "metadata": {},
   "source": [
    "Visualise some of these other clusterings. Take a previous visualisation, and change the `c=` parameter to use a new column name."
   ]
  },
  {
   "cell_type": "code",
   "execution_count": 31,
   "id": "b5cd402c-b7e8-4782-9ab1-3bd97cd02291",
   "metadata": {},
   "outputs": [
    {
     "data": {
      "text/plain": [
       "<Axes: xlabel='sepal length (cm)', ylabel='sepal width (cm)'>"
      ]
     },
     "execution_count": 31,
     "metadata": {},
     "output_type": "execute_result"
    },
    {
     "data": {
      "image/png": "[encoded data removed]",
      "text/plain": [
       "<Figure size 640x480 with 2 Axes>"
      ]
     },
     "metadata": {},
     "output_type": "display_data"
    },
    {
     "data": {
      "image/png": "[encoded data removed]",
      "text/plain": [
       "<Figure size 640x480 with 2 Axes>"
      ]
     },
     "metadata": {},
     "output_type": "display_data"
    },
    {
     "data": {
      "image/png": "[encoded data removed]",
      "text/plain": [
       "<Figure size 640x480 with 2 Axes>"
      ]
     },
     "metadata": {},
     "output_type": "display_data"
    },
    {
     "data": {
      "image/png": "[encoded data removed]",
      "text/plain": [
       "<Figure size 640x480 with 2 Axes>"
      ]
     },
     "metadata": {},
     "output_type": "display_data"
    }
   ],
   "source": [
    "data.plot.scatter(x='sepal length (cm)', y='sepal width (cm)', c='kmeans_cluster_2_species', cmap='rainbow')\n",
    "data.plot.scatter(x='sepal length (cm)', y='sepal width (cm)', c='kmeans_cluster_3_species', cmap='rainbow')\n",
    "data.plot.scatter(x='sepal length (cm)', y='sepal width (cm)', c='kmeans_cluster_4_species', cmap='rainbow')\n",
    "data.plot.scatter(x='sepal length (cm)', y='sepal width (cm)', c='kmeans_cluster_5_species', cmap='rainbow')"
   ]
  },
  {
   "cell_type": "markdown",
   "id": "5c72b787-ce1e-4ebc-9f04-a2137c6661bf",
   "metadata": {},
   "source": [
    "---\n",
    "\n",
    "### Step 3: Evaluate Clusters\n",
    "\n",
    "Check how well your clusters are separated using `sklearn.metrics.silhouette_score`. It needs the data you used for\n",
    "clustering and the labels your clust"
   ]
  },
  {
   "cell_type": "code",
   "execution_count": 34,
   "id": "c3d35cf5-8ee3-4ad2-af94-343c204ead9d",
   "metadata": {},
   "outputs": [
    {
     "name": "stdout",
     "output_type": "stream",
     "text": [
      "Silhouette Score: 0.5511916046195918\n"
     ]
    }
   ],
   "source": [
    "score = sklearn.metrics.silhouette_score(data[iris.feature_names], data['kmeans_cluster_3_species'])\n",
    "print(\"Silhouette Score:\", score)"
   ]
  },
  {
   "cell_type": "markdown",
   "id": "d1ed83a5-c2e1-46d4-b19b-07fce01e1cea",
   "metadata": {},
   "source": [
    "- Scores close to **1** indicate good clustering.\n",
    "- Scores near **0** mean clusters overlap.\n",
    "- Negative scores indicate points might be wrongly clustered."
   ]
  },
  {
   "cell_type": "markdown",
   "id": "fcdbabd9-a437-4c41-9b36-a2aa4aa1effd",
   "metadata": {},
   "source": [
    "Look at the silhouette score for the 2,4 and 5 cluster options as well. If you are feeling confident with Python you can code a visualisation here. If you aren't, feel free to use Excel or some graph paper to see how the silhouette score performs.\n",
    "\n",
    "You'll find that it isn't all that informative -- as the number of clusters increases, the silhouette score gets worse. This would\n",
    "suggest that two clusters is the best."
   ]
  },
  {
   "cell_type": "markdown",
   "id": "3e228197-f3c0-4f6d-8218-c628b4332830",
   "metadata": {},
   "source": [
    "---"
   ]
  },
  {
   "cell_type": "code",
   "execution_count": 35,
   "id": "d175398b-127b-410d-b25a-caf6ec34ed64",
   "metadata": {},
   "outputs": [
    {
     "name": "stdout",
     "output_type": "stream",
     "text": [
      "Silhouette Score (2): 0.6810461692117462\n",
      "Silhouette Score (4): 0.4137668162428511\n",
      "Silhouette Score (5): 0.3560836257832072\n"
     ]
    }
   ],
   "source": [
    "score2 = sklearn.metrics.silhouette_score(data[iris.feature_names], data['kmeans_cluster_2_species'])\n",
    "print(\"Silhouette Score (2):\", score2)\n",
    "score4 = sklearn.metrics.silhouette_score(data[iris.feature_names], data['kmeans_cluster_4_species'])\n",
    "print(\"Silhouette Score (4):\", score4)\n",
    "score5 = sklearn.metrics.silhouette_score(data[iris.feature_names], data['kmeans_cluster_5_species'])\n",
    "print(\"Silhouette Score (5):\", score5)"
   ]
  },
  {
   "cell_type": "code",
   "execution_count": 36,
   "id": "12602871-31e5-4758-9aee-e32a5abdde43",
   "metadata": {},
   "outputs": [
    {
     "data": {
      "text/plain": [
       "<Axes: >"
      ]
     },
     "execution_count": 36,
     "metadata": {},
     "output_type": "execute_result"
    },
    {
     "data": {
      "image/png": "[encoded data removed]",
      "text/plain": [
       "<Figure size 640x480 with 1 Axes>"
      ]
     },
     "metadata": {},
     "output_type": "display_data"
    }
   ],
   "source": [
    "silhouette_data = pd.Series(index=[2,3,4,5], data=[score2, score, score4, score5])\n",
    "silhouette_data.plot()"
   ]
  },
  {
   "cell_type": "markdown",
   "id": "2998d670-3f61-48b4-8d40-bfbe0a8ee44f",
   "metadata": {},
   "source": [
    "There are several other metrics that are used for measuring how good a cluster specification is.\n",
    "\n",
    "- Calinski-Harabasz\n",
    "- Davies-Bouldin\n",
    "\n",
    "One of the nice things about the scikit-learn library, is that you can copy the code for the Silhouette score and replace it with another metric. e.g. Replace `sklearn.metrics.silhouette_score` with `sklearn.metrics.davies_bouldin_score`.\n",
    "\n",
    "There is also some documentation on how they work, e.g. https://scikit-learn.org/stable/modules/clustering.html#calinski-harabasz-index\n",
    "\n",
    "Try these two, and see if you can find any spikes that might indicate that a particular number of clusters is especially good\n",
    "according to one of these metrics."
   ]
  },
  {
   "cell_type": "code",
   "execution_count": 37,
   "id": "1c0fa943-1c44-43a2-b1f9-c49de95dbc5d",
   "metadata": {},
   "outputs": [
    {
     "data": {
      "text/plain": [
       "<Axes: >"
      ]
     },
     "execution_count": 37,
     "metadata": {},
     "output_type": "execute_result"
    },
    {
     "data": {
      "image/png": "[encoded data removed]",
      "text/plain": [
       "<Figure size 640x480 with 1 Axes>"
      ]
     },
     "metadata": {},
     "output_type": "display_data"
    }
   ],
   "source": [
    "# The solution I've created here is for slightly-sophisticated programmers...\n",
    "\n",
    "davies_scores = []\n",
    "for i in range(2,6):\n",
    "    davies_scores.append(sklearn.metrics.davies_bouldin_score(data[iris.feature_names], data[f'kmeans_cluster_{i}_species']))\n",
    "\n",
    "davies_scores = pd.Series(index=range(2,6), data=davies_scores)\n",
    "davies_scores.plot()"
   ]
  },
  {
   "cell_type": "code",
   "execution_count": 38,
   "id": "cc15de0c-f7be-4171-ac78-917163efeb4a",
   "metadata": {},
   "outputs": [
    {
     "data": {
      "text/plain": [
       "<Axes: >"
      ]
     },
     "execution_count": 38,
     "metadata": {},
     "output_type": "execute_result"
    },
    {
     "data": {
      "image/png": "[encoded data removed]",
      "text/plain": [
       "<Figure size 640x480 with 1 Axes>"
      ]
     },
     "metadata": {},
     "output_type": "display_data"
    }
   ],
   "source": [
    "# The solution I've created here is for slightly-sophisticated programmers...\n",
    "\n",
    "calinksi_scores = []\n",
    "for i in range(2,6):\n",
    "    calinksi_scores.append(sklearn.metrics.calinski_harabasz_score(data[iris.feature_names], data[f'kmeans_cluster_{i}_species']))\n",
    "\n",
    "calinski_scores = pd.Series(index=range(2,6), data=calinksi_scores)\n",
    "calinski_scores.plot()"
   ]
  },
  {
   "cell_type": "markdown",
   "id": "d9053bdb-454d-4d0e-bcac-e012da7190b8",
   "metadata": {},
   "source": [
    "### Step 4: Perform DBSCAN Clustering\n",
    "\n",
    "DBSCAN tries to find clusters by density. Run this:"
   ]
  },
  {
   "cell_type": "code",
   "execution_count": 39,
   "id": "6539d785-2ca1-4b03-aaaa-9dbc27a11404",
   "metadata": {},
   "outputs": [
    {
     "data": {
      "text/html": [
       "<div>\n",
       "<style scoped>\n",
       "    .dataframe tbody tr th:only-of-type {\n",
       "        vertical-align: middle;\n",
       "    }\n",
       "\n",
       "    .dataframe tbody tr th {\n",
       "        vertical-align: top;\n",
       "    }\n",
       "\n",
       "    .dataframe thead th {\n",
       "        text-align: right;\n",
       "    }\n",
       "</style>\n",
       "<table border=\"1\" class=\"dataframe\">\n",
       "  <thead>\n",
       "    <tr style=\"text-align: right;\">\n",
       "      <th></th>\n",
       "      <th>sepal length (cm)</th>\n",
       "      <th>sepal width (cm)</th>\n",
       "      <th>petal length (cm)</th>\n",
       "      <th>petal width (cm)</th>\n",
       "      <th>kmeans_cluster_3_species</th>\n",
       "      <th>kmeans_cluster_2_species</th>\n",
       "      <th>kmeans_cluster_4_species</th>\n",
       "      <th>kmeans_cluster_5_species</th>\n",
       "      <th>dbscan_cluster</th>\n",
       "    </tr>\n",
       "  </thead>\n",
       "  <tbody>\n",
       "    <tr>\n",
       "      <th>0</th>\n",
       "      <td>5.1</td>\n",
       "      <td>3.5</td>\n",
       "      <td>1.4</td>\n",
       "      <td>0.2</td>\n",
       "      <td>1</td>\n",
       "      <td>1</td>\n",
       "      <td>2</td>\n",
       "      <td>4</td>\n",
       "      <td>0</td>\n",
       "    </tr>\n",
       "    <tr>\n",
       "      <th>1</th>\n",
       "      <td>4.9</td>\n",
       "      <td>3.0</td>\n",
       "      <td>1.4</td>\n",
       "      <td>0.2</td>\n",
       "      <td>1</td>\n",
       "      <td>1</td>\n",
       "      <td>1</td>\n",
       "      <td>2</td>\n",
       "      <td>0</td>\n",
       "    </tr>\n",
       "    <tr>\n",
       "      <th>2</th>\n",
       "      <td>4.7</td>\n",
       "      <td>3.2</td>\n",
       "      <td>1.3</td>\n",
       "      <td>0.2</td>\n",
       "      <td>1</td>\n",
       "      <td>1</td>\n",
       "      <td>1</td>\n",
       "      <td>2</td>\n",
       "      <td>0</td>\n",
       "    </tr>\n",
       "    <tr>\n",
       "      <th>3</th>\n",
       "      <td>4.6</td>\n",
       "      <td>3.1</td>\n",
       "      <td>1.5</td>\n",
       "      <td>0.2</td>\n",
       "      <td>1</td>\n",
       "      <td>1</td>\n",
       "      <td>1</td>\n",
       "      <td>2</td>\n",
       "      <td>0</td>\n",
       "    </tr>\n",
       "    <tr>\n",
       "      <th>4</th>\n",
       "      <td>5.0</td>\n",
       "      <td>3.6</td>\n",
       "      <td>1.4</td>\n",
       "      <td>0.2</td>\n",
       "      <td>1</td>\n",
       "      <td>1</td>\n",
       "      <td>2</td>\n",
       "      <td>4</td>\n",
       "      <td>0</td>\n",
       "    </tr>\n",
       "    <tr>\n",
       "      <th>...</th>\n",
       "      <td>...</td>\n",
       "      <td>...</td>\n",
       "      <td>...</td>\n",
       "      <td>...</td>\n",
       "      <td>...</td>\n",
       "      <td>...</td>\n",
       "      <td>...</td>\n",
       "      <td>...</td>\n",
       "      <td>...</td>\n",
       "    </tr>\n",
       "    <tr>\n",
       "      <th>145</th>\n",
       "      <td>6.7</td>\n",
       "      <td>3.0</td>\n",
       "      <td>5.2</td>\n",
       "      <td>2.3</td>\n",
       "      <td>0</td>\n",
       "      <td>0</td>\n",
       "      <td>3</td>\n",
       "      <td>1</td>\n",
       "      <td>1</td>\n",
       "    </tr>\n",
       "    <tr>\n",
       "      <th>146</th>\n",
       "      <td>6.3</td>\n",
       "      <td>2.5</td>\n",
       "      <td>5.0</td>\n",
       "      <td>1.9</td>\n",
       "      <td>2</td>\n",
       "      <td>0</td>\n",
       "      <td>0</td>\n",
       "      <td>0</td>\n",
       "      <td>1</td>\n",
       "    </tr>\n",
       "    <tr>\n",
       "      <th>147</th>\n",
       "      <td>6.5</td>\n",
       "      <td>3.0</td>\n",
       "      <td>5.2</td>\n",
       "      <td>2.0</td>\n",
       "      <td>0</td>\n",
       "      <td>0</td>\n",
       "      <td>3</td>\n",
       "      <td>1</td>\n",
       "      <td>1</td>\n",
       "    </tr>\n",
       "    <tr>\n",
       "      <th>148</th>\n",
       "      <td>6.2</td>\n",
       "      <td>3.4</td>\n",
       "      <td>5.4</td>\n",
       "      <td>2.3</td>\n",
       "      <td>0</td>\n",
       "      <td>0</td>\n",
       "      <td>3</td>\n",
       "      <td>1</td>\n",
       "      <td>1</td>\n",
       "    </tr>\n",
       "    <tr>\n",
       "      <th>149</th>\n",
       "      <td>5.9</td>\n",
       "      <td>3.0</td>\n",
       "      <td>5.1</td>\n",
       "      <td>1.8</td>\n",
       "      <td>2</td>\n",
       "      <td>0</td>\n",
       "      <td>0</td>\n",
       "      <td>0</td>\n",
       "      <td>1</td>\n",
       "    </tr>\n",
       "  </tbody>\n",
       "</table>\n",
       "<p>150 rows × 9 columns</p>\n",
       "</div>"
      ],
      "text/plain": [
       "     sepal length (cm)  sepal width (cm)  petal length (cm)  petal width (cm)  \\\n",
       "0                  5.1               3.5                1.4               0.2   \n",
       "1                  4.9               3.0                1.4               0.2   \n",
       "2                  4.7               3.2                1.3               0.2   \n",
       "3                  4.6               3.1                1.5               0.2   \n",
       "4                  5.0               3.6                1.4               0.2   \n",
       "..                 ...               ...                ...               ...   \n",
       "145                6.7               3.0                5.2               2.3   \n",
       "146                6.3               2.5                5.0               1.9   \n",
       "147                6.5               3.0                5.2               2.0   \n",
       "148                6.2               3.4                5.4               2.3   \n",
       "149                5.9               3.0                5.1               1.8   \n",
       "\n",
       "     kmeans_cluster_3_species  kmeans_cluster_2_species  \\\n",
       "0                           1                         1   \n",
       "1                           1                         1   \n",
       "2                           1                         1   \n",
       "3                           1                         1   \n",
       "4                           1                         1   \n",
       "..                        ...                       ...   \n",
       "145                         0                         0   \n",
       "146                         2                         0   \n",
       "147                         0                         0   \n",
       "148                         0                         0   \n",
       "149                         2                         0   \n",
       "\n",
       "     kmeans_cluster_4_species  kmeans_cluster_5_species  dbscan_cluster  \n",
       "0                           2                         4               0  \n",
       "1                           1                         2               0  \n",
       "2                           1                         2               0  \n",
       "3                           1                         2               0  \n",
       "4                           2                         4               0  \n",
       "..                        ...                       ...             ...  \n",
       "145                         3                         1               1  \n",
       "146                         0                         0               1  \n",
       "147                         3                         1               1  \n",
       "148                         3                         1               1  \n",
       "149                         0                         0               1  \n",
       "\n",
       "[150 rows x 9 columns]"
      ]
     },
     "execution_count": 39,
     "metadata": {},
     "output_type": "execute_result"
    }
   ],
   "source": [
    "dbscan = sklearn.cluster.DBSCAN(eps=0.5, min_samples=5)\n",
    "data['dbscan_cluster'] = dbscan.fit_predict(data[iris.feature_names])\n",
    "data"
   ]
  },
  {
   "cell_type": "markdown",
   "id": "4299d0a8-ce56-4b08-a2e9-a0fe34c5a4fd",
   "metadata": {},
   "source": [
    "Pick your favourite metric and measure how good the DBSCAN clustering was."
   ]
  },
  {
   "cell_type": "code",
   "execution_count": 40,
   "id": "f08fd596-1ce1-44ff-9433-213276500e42",
   "metadata": {},
   "outputs": [
    {
     "data": {
      "text/plain": [
       "np.float64(220.29751498443005)"
      ]
     },
     "execution_count": 40,
     "metadata": {},
     "output_type": "execute_result"
    }
   ],
   "source": [
    "sklearn.metrics.calinski_harabasz_score(data[iris.feature_names], data[f'dbscan_cluster'])"
   ]
  },
  {
   "cell_type": "markdown",
   "id": "c79225f8-7190-4296-8325-63ee627b3a48",
   "metadata": {},
   "source": [
    "We can also look at different values for `eps` or `min_samples` and see if we can find a better clustering."
   ]
  },
  {
   "cell_type": "code",
   "execution_count": 41,
   "id": "d41f1480-00f3-4c37-94a5-86f316f4fee6",
   "metadata": {},
   "outputs": [
    {
     "data": {
      "text/plain": [
       "np.float64(58.01522715592349)"
      ]
     },
     "execution_count": 41,
     "metadata": {},
     "output_type": "execute_result"
    }
   ],
   "source": [
    "alternate_dbscan = sklearn.cluster.DBSCAN(eps=0.25, min_samples=5)\n",
    "sklearn.metrics.calinski_harabasz_score(data[iris.feature_names], alternate_dbscan.fit_predict(data[iris.feature_names]))"
   ]
  },
  {
   "cell_type": "code",
   "execution_count": 42,
   "id": "1567c8b6-6259-408c-992a-f543beef355b",
   "metadata": {},
   "outputs": [
    {
     "data": {
      "text/plain": [
       "array([ 0,  0,  0,  0,  0, -1,  0,  0, -1,  0,  0,  0,  0, -1, -1, -1, -1,\n",
       "        0, -1,  0, -1,  0, -1,  0, -1,  0,  0,  0,  0,  0,  0, -1, -1, -1,\n",
       "        0,  0, -1,  0, -1,  0,  0, -1,  0,  0, -1,  0,  0,  0,  0,  0, -1,\n",
       "       -1, -1, -1, -1, -1, -1, -1, -1, -1, -1, -1, -1, -1, -1, -1, -1, -1,\n",
       "       -1, -1, -1, -1, -1, -1, -1, -1, -1, -1, -1, -1, -1, -1, -1, -1, -1,\n",
       "       -1, -1, -1,  1, -1, -1, -1, -1, -1,  1,  1,  1, -1, -1,  1, -1, -1,\n",
       "       -1, -1, -1, -1, -1, -1, -1, -1, -1, -1, -1, -1, -1, -1, -1, -1, -1,\n",
       "       -1, -1, -1, -1, -1, -1, -1, -1, -1, -1, -1, -1, -1, -1, -1, -1, -1,\n",
       "       -1, -1, -1, -1, -1, -1, -1, -1, -1, -1, -1, -1, -1, -1])"
      ]
     },
     "execution_count": 42,
     "metadata": {},
     "output_type": "execute_result"
    }
   ],
   "source": [
    "alternate_dbscan.fit_predict(data[iris.feature_names])"
   ]
  },
  {
   "cell_type": "markdown",
   "id": "cd158b62-d0a6-412d-a688-a4864d2d8b90",
   "metadata": {},
   "source": [
    "---\n",
    "\n",
    "### Discussion Questions:\n",
    "\n",
    "1. How many clusters did each method identify?\n",
    "2. Which clustering results seem clearer or more useful?\n",
    "3. Why might DBSCAN and K-means give different results?\n",
    "4. What does your Silhouette Score / Davies-Bouldin / Calinski-Harabasz scores suggest about the quality of the K-Means clusters?\n",
    "5. Why did we not do train, validation and test here?\n",
    "\n",
    "\n",
    "Discuss these questions in your group."
   ]
  }
 ],
 "metadata": {
  "kernelspec": {
   "display_name": "datascience2200",
   "language": "python",
   "name": "python3"
  },
  "language_info": {
   "codemirror_mode": {
    "name": "ipython",
    "version": 3
   },
   "file_extension": ".py",
   "mimetype": "text/x-python",
   "name": "python",
   "nbconvert_exporter": "python",
   "pygments_lexer": "ipython3",
   "version": "3.12.9"
  }
 },
 "nbformat": 4,
 "nbformat_minor": 5
}
